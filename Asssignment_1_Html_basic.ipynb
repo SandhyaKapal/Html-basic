{
  "nbformat": 4,
  "nbformat_minor": 0,
  "metadata": {
    "colab": {
      "provenance": []
    },
    "kernelspec": {
      "name": "python3",
      "display_name": "Python 3"
    },
    "language_info": {
      "name": "python"
    }
  },
  "cells": [
    {
      "cell_type": "markdown",
      "source": [
        "Q.1 Explain the basic structure of an HTML page .Why is it important to follow this structure?"
      ],
      "metadata": {
        "id": "C7cSYKsINVKo"
      }
    },
    {
      "cell_type": "code",
      "source": [
        "<!DOCTYPE html>\n",
        "<html>\n",
        "<head>\n",
        "    <title>Page Title</title>\n",
        "    <meta charset=\"UTF-8\">\n",
        "</head>\n",
        "<body>\n",
        "    <h1>this is heading 1</h1>\n",
        "    <p>this is a paragraph </p>\n",
        "</body>\n",
        "</html>"
      ],
      "metadata": {
        "id": "sbBifycBQyie"
      },
      "execution_count": null,
      "outputs": []
    },
    {
      "cell_type": "markdown",
      "source": [
        "This is the basic stucture of an Html page\n",
        "Here\n",
        "1. <!DOCTYPE html> declares the document type and Html version.\n",
        "2. <html> in between this html tag whole page will be written.</html>\n",
        "3. <head> head contains meta data like\n",
        "      i. <title> this is page title which shown in browser tab.\n",
        "      ii. <meta> meta contain information like character , viewpot and include stylesheets and scripts.\n",
        "4. <body> body contains visible content of webpage like text, images,links etc.\n",
        "      i. <h1> this is the heading tag.\n",
        "      ii. <p> to write a paragraph this tag is used.\n",
        "\n"
      ],
      "metadata": {
        "id": "g_ADxjV5Q8KE"
      }
    },
    {
      "cell_type": "markdown",
      "source": [
        "Why is it important to follow this structure?\n",
        "\n",
        "html is easier to read , debug , and update over the time .\n"
      ],
      "metadata": {
        "id": "-VWXuHEQVt3n"
      }
    },
    {
      "cell_type": "markdown",
      "source": [
        "Q.2 : You’re building a small personal profile page. Which HTML tags will you\n",
        "use to highlight your name as a heading, describe yourself in a paragraph, and\n",
        "emphasize a key skill?"
      ],
      "metadata": {
        "id": "fmt1cliaYagN"
      }
    },
    {
      "cell_type": "code",
      "source": [
        "<!DOCTYPE html>\n",
        "<html>\n",
        "<head>\n",
        "    <title>My Profile </title>\n",
        "</head>\n",
        "<body>\n",
        "    <h1>My name is Sandhya kapal</h1>\n",
        "    <p>I am a web developer. My key skills are Html,Css,java,Sql. </p>\n",
        "</body>\n",
        "</html>"
      ],
      "metadata": {
        "id": "ll18-o_ve2oG"
      },
      "execution_count": null,
      "outputs": []
    },
    {
      "cell_type": "markdown",
      "source": [],
      "metadata": {
        "id": "H2c5qmBpdKch"
      }
    },
    {
      "cell_type": "markdown",
      "source": [
        "Question 3: Look at the code below. Can you find and fix the mistake?"
      ],
      "metadata": {
        "id": "TFzvrfDEdP85"
      }
    },
    {
      "cell_type": "code",
      "source": [
        "<!-- This is an HTML comment\n",
        "<h1>Welcome to my website</h1>"
      ],
      "metadata": {
        "id": "h5a0FxwMeBlo"
      },
      "execution_count": null,
      "outputs": []
    },
    {
      "cell_type": "markdown",
      "source": [
        "In the above code the comment is not properly closed. An HTML comment should close with"
      ],
      "metadata": {
        "id": "KPH249W13Qg2"
      }
    },
    {
      "cell_type": "code",
      "source": [
        "<!-- This is an HTML comment -->\n",
        "<h1>Welcome to my website</h1>"
      ],
      "metadata": {
        "id": "5LNlf1n63qxy"
      },
      "execution_count": null,
      "outputs": []
    },
    {
      "cell_type": "markdown",
      "source": [
        "Question 4: You’re creating a form that asks the user to enter their name, select their country from a list, and click a button to submit. Write the HTML code for this."
      ],
      "metadata": {
        "id": "Tv3xjzxndTAi"
      }
    },
    {
      "cell_type": "code",
      "source": [
        "<!DOCTYPE html>\n",
        "<html>\n",
        "<head>\n",
        "  <title>User Form</title>\n",
        "</head>\n",
        "<body>\n",
        "\n",
        "  <h2>User Information Form</h2>\n",
        "\n",
        "  <form action=\"/submit\" method=\"post\">\n",
        "    <label for=\"name\">Name:</label><br>\n",
        "    <input type=\"text\" id=\"name\" name=\"name\" required><br><br>\n",
        "\n",
        "    <label for=\"country\">Country:</label><br>\n",
        "    <select id=\"country\" name=\"country\" required>\n",
        "      <option value=\"\">--Select your country--</option>\n",
        "      <option value=\"usa\">United States</option>\n",
        "      <option value=\"canada\">Canada</option>\n",
        "      <option value=\"uk\">United Kingdom</option>\n",
        "      <option value=\"australia\">Australia</option>\n",
        "      <option value=\"india\">India</option>\n",
        "    </select><br><br>\n",
        "\n",
        "    <button type=\"submit\">Submit</button>\n",
        "  </form>\n",
        "\n",
        "</body>\n",
        "</html>\n"
      ],
      "metadata": {
        "id": "U49J-Sp93l9-"
      },
      "execution_count": null,
      "outputs": []
    },
    {
      "cell_type": "markdown",
      "source": [
        "Question 5: Write short HTML code to show your favorite fruits in a bulleted list and\n",
        "your top 3 programming languages in a numbered list.\n"
      ],
      "metadata": {
        "id": "5CL5xWt4daZ8"
      }
    },
    {
      "cell_type": "code",
      "source": [
        "<!DOCTYPE html>\n",
        "<html>\n",
        "<head>\n",
        "  <title>My Favorites</title>\n",
        "</head>\n",
        "<body>\n",
        "\n",
        "  <h2>My Favorite Fruits</h2>\n",
        "  <ul>\n",
        "    <li>Mango</li>\n",
        "    <li>Strawberry</li>\n",
        "    <li>Banana</li>\n",
        "  </ul>\n",
        "\n",
        "  <h2>My Top 3 Programming Languages</h2>\n",
        "  <ol>\n",
        "    <li>Python</li>\n",
        "    <li>JavaScript</li>\n",
        "    <li>Java</li>\n",
        "  </ol>\n",
        "\n",
        "</body>\n",
        "</html>\n"
      ],
      "metadata": {
        "id": "lVRvmX4r9p3t"
      },
      "execution_count": null,
      "outputs": []
    }
  ]
}